{
  "cells": [
    {
      "cell_type": "markdown",
      "metadata": {
        "id": "WRCtvQLM0pvP"
      },
      "source": [
        "# Salaries Exercise\n",
        "\n",
        "Click [here](https://drive.google.com/file/d/1CeOKg0G1_CpECEWvze30fMdbuEspkmWD/view?usp=sharing) to download the file"
      ]
    },
    {
      "cell_type": "markdown",
      "metadata": {
        "id": "moWxpSR90pvQ"
      },
      "source": [
        "**Import pandas as pd**"
      ]
    },
    {
      "cell_type": "code",
      "execution_count": 43,
      "metadata": {
        "collapsed": true,
        "id": "OLt7PeYw0pvQ"
      },
      "outputs": [],
      "source": [
        "import pandas as pd"
      ]
    },
    {
      "cell_type": "markdown",
      "metadata": {
        "id": "pvdebdQ70pvR"
      },
      "source": [
        "**Read Salaries.csv as a dataframe called sal**"
      ]
    },
    {
      "cell_type": "code",
      "execution_count": 44,
      "metadata": {
        "id": "TeyCD8VY0pvR"
      },
      "outputs": [],
      "source": [
        "df = pd.read_csv(\"Salaries.csv\")"
      ]
    },
    {
      "cell_type": "markdown",
      "metadata": {
        "id": "LdUmBj8K0pvS"
      },
      "source": [
        "**Check the head of the DataFrame**"
      ]
    },
    {
      "cell_type": "code",
      "execution_count": 45,
      "metadata": {
        "id": "WGz0HdJL0pvS"
      },
      "outputs": [
        {
          "data": {
            "text/html": [
              "<div>\n",
              "<style scoped>\n",
              "    .dataframe tbody tr th:only-of-type {\n",
              "        vertical-align: middle;\n",
              "    }\n",
              "\n",
              "    .dataframe tbody tr th {\n",
              "        vertical-align: top;\n",
              "    }\n",
              "\n",
              "    .dataframe thead th {\n",
              "        text-align: right;\n",
              "    }\n",
              "</style>\n",
              "<table border=\"1\" class=\"dataframe\">\n",
              "  <thead>\n",
              "    <tr style=\"text-align: right;\">\n",
              "      <th></th>\n",
              "      <th>Id</th>\n",
              "      <th>EmployeeName</th>\n",
              "      <th>JobTitle</th>\n",
              "      <th>BasePay</th>\n",
              "      <th>OvertimePay</th>\n",
              "      <th>OtherPay</th>\n",
              "      <th>Benefits</th>\n",
              "      <th>TotalPay</th>\n",
              "      <th>TotalPayBenefits</th>\n",
              "      <th>Year</th>\n",
              "      <th>Notes</th>\n",
              "      <th>Agency</th>\n",
              "      <th>Status</th>\n",
              "    </tr>\n",
              "  </thead>\n",
              "  <tbody>\n",
              "    <tr>\n",
              "      <th>0</th>\n",
              "      <td>1</td>\n",
              "      <td>NATHANIEL FORD</td>\n",
              "      <td>GENERAL MANAGER-METROPOLITAN TRANSIT AUTHORITY</td>\n",
              "      <td>167411.18</td>\n",
              "      <td>0.00</td>\n",
              "      <td>400184.25</td>\n",
              "      <td>NaN</td>\n",
              "      <td>567595.43</td>\n",
              "      <td>567595.43</td>\n",
              "      <td>2011</td>\n",
              "      <td>NaN</td>\n",
              "      <td>San Francisco</td>\n",
              "      <td>NaN</td>\n",
              "    </tr>\n",
              "    <tr>\n",
              "      <th>1</th>\n",
              "      <td>2</td>\n",
              "      <td>GARY JIMENEZ</td>\n",
              "      <td>CAPTAIN III (POLICE DEPARTMENT)</td>\n",
              "      <td>155966.02</td>\n",
              "      <td>245131.88</td>\n",
              "      <td>137811.38</td>\n",
              "      <td>NaN</td>\n",
              "      <td>538909.28</td>\n",
              "      <td>538909.28</td>\n",
              "      <td>2011</td>\n",
              "      <td>NaN</td>\n",
              "      <td>San Francisco</td>\n",
              "      <td>NaN</td>\n",
              "    </tr>\n",
              "    <tr>\n",
              "      <th>2</th>\n",
              "      <td>3</td>\n",
              "      <td>ALBERT PARDINI</td>\n",
              "      <td>CAPTAIN III (POLICE DEPARTMENT)</td>\n",
              "      <td>212739.13</td>\n",
              "      <td>106088.18</td>\n",
              "      <td>16452.60</td>\n",
              "      <td>NaN</td>\n",
              "      <td>335279.91</td>\n",
              "      <td>335279.91</td>\n",
              "      <td>2011</td>\n",
              "      <td>NaN</td>\n",
              "      <td>San Francisco</td>\n",
              "      <td>NaN</td>\n",
              "    </tr>\n",
              "    <tr>\n",
              "      <th>3</th>\n",
              "      <td>4</td>\n",
              "      <td>CHRISTOPHER CHONG</td>\n",
              "      <td>WIRE ROPE CABLE MAINTENANCE MECHANIC</td>\n",
              "      <td>77916.00</td>\n",
              "      <td>56120.71</td>\n",
              "      <td>198306.90</td>\n",
              "      <td>NaN</td>\n",
              "      <td>332343.61</td>\n",
              "      <td>332343.61</td>\n",
              "      <td>2011</td>\n",
              "      <td>NaN</td>\n",
              "      <td>San Francisco</td>\n",
              "      <td>NaN</td>\n",
              "    </tr>\n",
              "    <tr>\n",
              "      <th>4</th>\n",
              "      <td>5</td>\n",
              "      <td>PATRICK GARDNER</td>\n",
              "      <td>DEPUTY CHIEF OF DEPARTMENT,(FIRE DEPARTMENT)</td>\n",
              "      <td>134401.60</td>\n",
              "      <td>9737.00</td>\n",
              "      <td>182234.59</td>\n",
              "      <td>NaN</td>\n",
              "      <td>326373.19</td>\n",
              "      <td>326373.19</td>\n",
              "      <td>2011</td>\n",
              "      <td>NaN</td>\n",
              "      <td>San Francisco</td>\n",
              "      <td>NaN</td>\n",
              "    </tr>\n",
              "  </tbody>\n",
              "</table>\n",
              "</div>"
            ],
            "text/plain": [
              "   Id       EmployeeName                                        JobTitle  \\\n",
              "0   1     NATHANIEL FORD  GENERAL MANAGER-METROPOLITAN TRANSIT AUTHORITY   \n",
              "1   2       GARY JIMENEZ                 CAPTAIN III (POLICE DEPARTMENT)   \n",
              "2   3     ALBERT PARDINI                 CAPTAIN III (POLICE DEPARTMENT)   \n",
              "3   4  CHRISTOPHER CHONG            WIRE ROPE CABLE MAINTENANCE MECHANIC   \n",
              "4   5    PATRICK GARDNER    DEPUTY CHIEF OF DEPARTMENT,(FIRE DEPARTMENT)   \n",
              "\n",
              "     BasePay  OvertimePay   OtherPay  Benefits   TotalPay  TotalPayBenefits  \\\n",
              "0  167411.18         0.00  400184.25       NaN  567595.43         567595.43   \n",
              "1  155966.02    245131.88  137811.38       NaN  538909.28         538909.28   \n",
              "2  212739.13    106088.18   16452.60       NaN  335279.91         335279.91   \n",
              "3   77916.00     56120.71  198306.90       NaN  332343.61         332343.61   \n",
              "4  134401.60      9737.00  182234.59       NaN  326373.19         326373.19   \n",
              "\n",
              "   Year  Notes         Agency  Status  \n",
              "0  2011    NaN  San Francisco     NaN  \n",
              "1  2011    NaN  San Francisco     NaN  \n",
              "2  2011    NaN  San Francisco     NaN  \n",
              "3  2011    NaN  San Francisco     NaN  \n",
              "4  2011    NaN  San Francisco     NaN  "
            ]
          },
          "execution_count": 45,
          "metadata": {},
          "output_type": "execute_result"
        }
      ],
      "source": [
        "df.head()"
      ]
    },
    {
      "cell_type": "markdown",
      "metadata": {
        "id": "qZa1nFh60pvT"
      },
      "source": [
        "**Use the .info() method to find out how many entries there are**"
      ]
    },
    {
      "cell_type": "code",
      "execution_count": 46,
      "metadata": {
        "id": "b0pi7T8P0pvU"
      },
      "outputs": [
        {
          "name": "stdout",
          "output_type": "stream",
          "text": [
            "<class 'pandas.core.frame.DataFrame'>\n",
            "RangeIndex: 148654 entries, 0 to 148653\n",
            "Data columns (total 13 columns):\n",
            " #   Column            Non-Null Count   Dtype  \n",
            "---  ------            --------------   -----  \n",
            " 0   Id                148654 non-null  int64  \n",
            " 1   EmployeeName      148654 non-null  object \n",
            " 2   JobTitle          148654 non-null  object \n",
            " 3   BasePay           148045 non-null  float64\n",
            " 4   OvertimePay       148650 non-null  float64\n",
            " 5   OtherPay          148650 non-null  float64\n",
            " 6   Benefits          112491 non-null  float64\n",
            " 7   TotalPay          148654 non-null  float64\n",
            " 8   TotalPayBenefits  148654 non-null  float64\n",
            " 9   Year              148654 non-null  int64  \n",
            " 10  Notes             0 non-null       float64\n",
            " 11  Agency            148654 non-null  object \n",
            " 12  Status            0 non-null       float64\n",
            "dtypes: float64(8), int64(2), object(3)\n",
            "memory usage: 14.7+ MB\n"
          ]
        }
      ],
      "source": [
        "df.info()"
      ]
    },
    {
      "cell_type": "markdown",
      "metadata": {
        "id": "PR4CvKm90pvU"
      },
      "source": [
        "**Find the average BasePay ?**\n",
        "\n",
        "Answer: 66325.44884050643"
      ]
    },
    {
      "cell_type": "code",
      "execution_count": 47,
      "metadata": {},
      "outputs": [
        {
          "name": "stdout",
          "output_type": "stream",
          "text": [
            "66325.4488404877\n"
          ]
        }
      ],
      "source": [
        "mean_basepay = df['BasePay'].mean()\n",
        "print(mean_basepay)"
      ]
    },
    {
      "cell_type": "markdown",
      "metadata": {
        "id": "Z5TC2lO70pvV"
      },
      "source": [
        "**Find is the highest amount of OvertimePay in the dataset ?**\n",
        "\n",
        "Answer: 245131.88"
      ]
    },
    {
      "cell_type": "code",
      "execution_count": 48,
      "metadata": {
        "id": "VscSmg7m0pvV"
      },
      "outputs": [
        {
          "name": "stdout",
          "output_type": "stream",
          "text": [
            "245131.88\n"
          ]
        }
      ],
      "source": [
        "maxOP = df['OvertimePay'].max()\n",
        "print(maxOP)"
      ]
    },
    {
      "cell_type": "markdown",
      "metadata": {
        "id": "sOHULYfP0pvV"
      },
      "source": [
        "**Find the job title of  JOSEPH DRISCOLL ?**\n",
        "\n",
        "Note: Use all caps, otherwise you may get an answer that doesn't match up (there is also a lowercase Joseph Driscoll)\n",
        "\n",
        "Answer: CAPTAIN, FIRE SUPPRESSION"
      ]
    },
    {
      "cell_type": "code",
      "execution_count": 49,
      "metadata": {
        "id": "zT6vgnJb0pvV"
      },
      "outputs": [
        {
          "name": "stdout",
          "output_type": "stream",
          "text": [
            "24    CAPTAIN, FIRE SUPPRESSION\n",
            "Name: JobTitle, dtype: object\n"
          ]
        }
      ],
      "source": [
        "# Find the job title of  JOSEPH DRISCOLL using pandas?\n",
        "\n",
        "jobTitle = df[df['EmployeeName'] == 'JOSEPH DRISCOLL']['JobTitle']\n",
        "print(jobTitle)\n"
      ]
    },
    {
      "cell_type": "markdown",
      "metadata": {
        "id": "kRFFKQ980pvW"
      },
      "source": [
        "**How much does JOSEPH DRISCOLL make (including benefits)?**\n",
        "\n",
        "Answer: 270324.91"
      ]
    },
    {
      "cell_type": "code",
      "execution_count": 50,
      "metadata": {
        "id": "BQmti74S0pvX"
      },
      "outputs": [
        {
          "name": "stdout",
          "output_type": "stream",
          "text": [
            "24    270324.91\n",
            "Name: TotalPayBenefits, dtype: float64\n"
          ]
        }
      ],
      "source": [
        "# How much does JOSEPH DRISCOLL make (including benefits)? using pandas\n",
        "\n",
        "salary = df[df['EmployeeName'] == 'JOSEPH DRISCOLL']['TotalPayBenefits']\n",
        "print(salary)\n"
      ]
    },
    {
      "cell_type": "markdown",
      "metadata": {
        "id": "eGx61AEr0pvX"
      },
      "source": [
        "**What is the name of highest paid person (including benefits) ?**\n",
        "\n",
        "Note: Print the entire row of data as follows\n",
        "\n",
        "Answer:\n",
        "\n",
        "\n",
        "\n",
        "```\n",
        "1 | NATHANIEL FORD | GENERAL MANAGER - METROPOLITAN TRANSIT...\n",
        "```\n",
        "\n",
        "\n"
      ]
    },
    {
      "cell_type": "code",
      "execution_count": 51,
      "metadata": {
        "id": "KXmxCgxi0pvX"
      },
      "outputs": [
        {
          "name": "stdout",
          "output_type": "stream",
          "text": [
            "1 | NATHANIEL FORD | GENERAL MANAGER-METROPOLITAN TRANSIT AUTHORITY | 167411.18 | 0.0 | 400184.25 | nan | 567595.43 | 567595.43 | 2011 | nan | San Francisco | nan\n"
          ]
        }
      ],
      "source": [
        "highest_paid_row = df.loc[df['TotalPayBenefits'].idxmax()]\n",
        "\n",
        "# Create a formatted string for the highest-paid row\n",
        "formatted_row = ' | '.join(str(value) for value in highest_paid_row.values)\n",
        "print(formatted_row)\n"
      ]
    },
    {
      "cell_type": "markdown",
      "metadata": {
        "id": "l37Nydfo0pvX"
      },
      "source": [
        "**What is the name of lowest paid person (including benefits)? Do you notice something strange about how much he or she is paid? If yes put it as a comment inside the given code block**\n",
        "\n",
        "Note: Print the entire row of data as follows\n",
        "\n",
        "Answer:\n",
        "\n",
        "```\n",
        "148654 |\tJoe Lopez\t| Counselor, Log Cabin Ranch...\n",
        "```"
      ]
    },
    {
      "cell_type": "code",
      "execution_count": 52,
      "metadata": {
        "id": "9y3ibz8g0pvY"
      },
      "outputs": [
        {
          "name": "stdout",
          "output_type": "stream",
          "text": [
            "148654 | Joe Lopez | Counselor, Log Cabin Ranch | 0.0 | 0.0 | -618.13 | 0.0 | -618.13 | -618.13 | 2014 | nan | San Francisco | nan\n"
          ]
        }
      ],
      "source": [
        "lowest_paid_row = df.loc[df['TotalPayBenefits'].idxmin()]\n",
        "\n",
        "# Create a formatted string for the highest-paid row\n",
        "formatted_row = ' | '.join(str(value) for value in lowest_paid_row.values)\n",
        "print(formatted_row)\n"
      ]
    },
    {
      "cell_type": "markdown",
      "metadata": {
        "id": "nv72NFTH0pvY"
      },
      "source": [
        "**What was the average (mean) BasePay of all employees per year? (2011-2014) ?**\n",
        "\n",
        "Answer:\n",
        "\n",
        "```\n",
        "Year\n",
        "2011    63595.956517\n",
        "2012    65436.406857\n",
        "2013    69630.030216\n",
        "2014    66564.421924\n",
        "Name: BasePay, dtype: float64\n",
        "```"
      ]
    },
    {
      "cell_type": "code",
      "execution_count": 53,
      "metadata": {
        "id": "t-7PUuB80pvY"
      },
      "outputs": [
        {
          "name": "stdout",
          "output_type": "stream",
          "text": [
            "Year\n",
            "2011    63595.956517\n",
            "2012    65436.406857\n",
            "2013    69630.030216\n",
            "2014    66564.421924\n",
            "Name: BasePay, dtype: float64\n"
          ]
        }
      ],
      "source": [
        "# average (mean) BasePay of all employees from 2011-2014\n",
        "\n",
        "average_basepay_per_year = df.groupby('Year')['BasePay'].mean()\n",
        "print(average_basepay_per_year)\n"
      ]
    },
    {
      "cell_type": "markdown",
      "metadata": {
        "id": "k9qJOkBt0pvY"
      },
      "source": [
        "**How many unique job titles are there ?**\n",
        "\n",
        "Answer: 2159"
      ]
    },
    {
      "cell_type": "code",
      "execution_count": 54,
      "metadata": {
        "id": "ArGJ5HNd0pvZ"
      },
      "outputs": [
        {
          "name": "stdout",
          "output_type": "stream",
          "text": [
            "2159\n"
          ]
        }
      ],
      "source": [
        "# how many unique job titles ?\n",
        "\n",
        "unique_job_titles = df['JobTitle'].nunique()\n",
        "print(unique_job_titles)"
      ]
    },
    {
      "cell_type": "markdown",
      "metadata": {
        "id": "dXVM-MXa0pvZ"
      },
      "source": [
        "**What are the top 5 most common jobs ?**\n",
        "\n",
        "Answer:\n",
        "\n",
        "```\n",
        "Transit Operator                7036\n",
        "Special Nurse                   4389\n",
        "Registered Nurse                3736\n",
        "Public Svc Aide-Public Works    2518\n",
        "Police Officer 3                2421\n",
        "Name: JobTitle, dtype: int64\n",
        "```"
      ]
    },
    {
      "cell_type": "code",
      "execution_count": 55,
      "metadata": {
        "id": "VKs1mLBy0pvZ"
      },
      "outputs": [
        {
          "name": "stdout",
          "output_type": "stream",
          "text": [
            "JobTitle\n",
            "Transit Operator                7036\n",
            "Special Nurse                   4389\n",
            "Registered Nurse                3736\n",
            "Public Svc Aide-Public Works    2518\n",
            "Police Officer 3                2421\n",
            "Name: count, dtype: int64\n"
          ]
        }
      ],
      "source": [
        "# top 5 most common jobs\n",
        "\n",
        "top_5_common_jobs = df['JobTitle'].value_counts().head(5)\n",
        "print(top_5_common_jobs)"
      ]
    },
    {
      "cell_type": "markdown",
      "metadata": {
        "id": "0-B5N60l0pva"
      },
      "source": [
        "**How many Job Titles were represented by only one person in 2013? (e.g. Job Titles with only one occurence in 2013?)**\n",
        "\n",
        "Answer: 202"
      ]
    },
    {
      "cell_type": "code",
      "execution_count": 56,
      "metadata": {
        "id": "pT_JROyB0pva"
      },
      "outputs": [
        {
          "name": "stdout",
          "output_type": "stream",
          "text": [
            "202\n"
          ]
        }
      ],
      "source": [
        "# how many job titles were represented by one person in 2013\n",
        "\n",
        "job_titles_in_2013 = df[df['Year'] == 2013]['JobTitle'].value_counts()\n",
        "job_titles_in_2013_only_one = job_titles_in_2013[job_titles_in_2013 == 1]\n",
        "print(len(job_titles_in_2013_only_one))"
      ]
    },
    {
      "cell_type": "markdown",
      "metadata": {
        "id": "8U7DplUh0pva"
      },
      "source": [
        "**How many people have the word Chief in their job title ?**\n",
        "\n",
        "Note: This is pretty tricky\n",
        "\n",
        "Answer: 477"
      ]
    },
    {
      "cell_type": "code",
      "execution_count": 57,
      "metadata": {
        "collapsed": true,
        "id": "Hp28t1fa0pva"
      },
      "outputs": [
        {
          "name": "stdout",
          "output_type": "stream",
          "text": [
            "423\n"
          ]
        }
      ],
      "source": [
        "# how many people have the word chief in job title\n",
        "\n",
        "chief_job_titles_count = df['JobTitle'].str.contains('Chief' or 'chief' or 'CHIEF').sum()\n",
        "print(chief_job_titles_count)"
      ]
    },
    {
      "cell_type": "markdown",
      "metadata": {
        "id": "JG7NSIHn0pvb"
      },
      "source": [
        "**Is there a correlation between length of the Job Title string and Salary ?**"
      ]
    },
    {
      "cell_type": "code",
      "execution_count": null,
      "metadata": {
        "id": "ykWRCUJH0pvb"
      },
      "outputs": [],
      "source": [
        "Yes, there is a positive correlation."
      ]
    },
    {
      "cell_type": "markdown",
      "metadata": {
        "id": "WlcBC3hO51_C"
      },
      "source": [
        "# Ecommerce Purchases Exercise\n",
        "\n",
        "Click [here](https://drive.google.com/file/d/1B27xrTYJQEzTwnWNn872yOZUljJ-WlFT/view?usp=sharing) to download the file"
      ]
    },
    {
      "cell_type": "markdown",
      "metadata": {
        "id": "klpDDMBJ6Got"
      },
      "source": [
        "**Import pandas**"
      ]
    },
    {
      "cell_type": "code",
      "execution_count": null,
      "metadata": {
        "collapsed": true,
        "id": "t-UmkH9151_E"
      },
      "outputs": [],
      "source": [
        "import pandas"
      ]
    },
    {
      "cell_type": "markdown",
      "metadata": {
        "id": "PtxVdp4T6N27"
      },
      "source": [
        "**Read in the Ecommerce Purchases csv file and set it to a DataFrame called ecom**"
      ]
    },
    {
      "cell_type": "code",
      "execution_count": null,
      "metadata": {
        "collapsed": true,
        "id": "KFnhgRDM51_E"
      },
      "outputs": [],
      "source": [
        "ecom = pandas.read_csv(\"Ecommerce Purchases.csv\")"
      ]
    },
    {
      "cell_type": "markdown",
      "metadata": {
        "id": "XTxuJTWD51_E"
      },
      "source": [
        "**Check the head of the DataFrame.**"
      ]
    },
    {
      "cell_type": "code",
      "execution_count": null,
      "metadata": {
        "id": "Yd84VHWT51_F"
      },
      "outputs": [
        {
          "data": {
            "text/html": [
              "<div>\n",
              "<style scoped>\n",
              "    .dataframe tbody tr th:only-of-type {\n",
              "        vertical-align: middle;\n",
              "    }\n",
              "\n",
              "    .dataframe tbody tr th {\n",
              "        vertical-align: top;\n",
              "    }\n",
              "\n",
              "    .dataframe thead th {\n",
              "        text-align: right;\n",
              "    }\n",
              "</style>\n",
              "<table border=\"1\" class=\"dataframe\">\n",
              "  <thead>\n",
              "    <tr style=\"text-align: right;\">\n",
              "      <th></th>\n",
              "      <th>Address</th>\n",
              "      <th>Lot</th>\n",
              "      <th>AM or PM</th>\n",
              "      <th>Browser Info</th>\n",
              "      <th>Company</th>\n",
              "      <th>Credit Card</th>\n",
              "      <th>CC Exp Date</th>\n",
              "      <th>CC Security Code</th>\n",
              "      <th>CC Provider</th>\n",
              "      <th>Email</th>\n",
              "      <th>Job</th>\n",
              "      <th>IP Address</th>\n",
              "      <th>Language</th>\n",
              "      <th>Purchase Price</th>\n",
              "    </tr>\n",
              "  </thead>\n",
              "  <tbody>\n",
              "    <tr>\n",
              "      <th>0</th>\n",
              "      <td>16629 Pace Camp Apt. 448\\nAlexisborough, NE 77...</td>\n",
              "      <td>46 in</td>\n",
              "      <td>PM</td>\n",
              "      <td>Opera/9.56.(X11; Linux x86_64; sl-SI) Presto/2...</td>\n",
              "      <td>Martinez-Herman</td>\n",
              "      <td>6011929061123406</td>\n",
              "      <td>02/20</td>\n",
              "      <td>900</td>\n",
              "      <td>JCB 16 digit</td>\n",
              "      <td>pdunlap@yahoo.com</td>\n",
              "      <td>Scientist, product/process development</td>\n",
              "      <td>149.146.147.205</td>\n",
              "      <td>el</td>\n",
              "      <td>98.14</td>\n",
              "    </tr>\n",
              "    <tr>\n",
              "      <th>1</th>\n",
              "      <td>9374 Jasmine Spurs Suite 508\\nSouth John, TN 8...</td>\n",
              "      <td>28 rn</td>\n",
              "      <td>PM</td>\n",
              "      <td>Opera/8.93.(Windows 98; Win 9x 4.90; en-US) Pr...</td>\n",
              "      <td>Fletcher, Richards and Whitaker</td>\n",
              "      <td>3337758169645356</td>\n",
              "      <td>11/18</td>\n",
              "      <td>561</td>\n",
              "      <td>Mastercard</td>\n",
              "      <td>anthony41@reed.com</td>\n",
              "      <td>Drilling engineer</td>\n",
              "      <td>15.160.41.51</td>\n",
              "      <td>fr</td>\n",
              "      <td>70.73</td>\n",
              "    </tr>\n",
              "    <tr>\n",
              "      <th>2</th>\n",
              "      <td>Unit 0065 Box 5052\\nDPO AP 27450</td>\n",
              "      <td>94 vE</td>\n",
              "      <td>PM</td>\n",
              "      <td>Mozilla/5.0 (compatible; MSIE 9.0; Windows NT ...</td>\n",
              "      <td>Simpson, Williams and Pham</td>\n",
              "      <td>675957666125</td>\n",
              "      <td>08/19</td>\n",
              "      <td>699</td>\n",
              "      <td>JCB 16 digit</td>\n",
              "      <td>amymiller@morales-harrison.com</td>\n",
              "      <td>Customer service manager</td>\n",
              "      <td>132.207.160.22</td>\n",
              "      <td>de</td>\n",
              "      <td>0.95</td>\n",
              "    </tr>\n",
              "    <tr>\n",
              "      <th>3</th>\n",
              "      <td>7780 Julia Fords\\nNew Stacy, WA 45798</td>\n",
              "      <td>36 vm</td>\n",
              "      <td>PM</td>\n",
              "      <td>Mozilla/5.0 (Macintosh; Intel Mac OS X 10_8_0 ...</td>\n",
              "      <td>Williams, Marshall and Buchanan</td>\n",
              "      <td>6011578504430710</td>\n",
              "      <td>02/24</td>\n",
              "      <td>384</td>\n",
              "      <td>Discover</td>\n",
              "      <td>brent16@olson-robinson.info</td>\n",
              "      <td>Drilling engineer</td>\n",
              "      <td>30.250.74.19</td>\n",
              "      <td>es</td>\n",
              "      <td>78.04</td>\n",
              "    </tr>\n",
              "    <tr>\n",
              "      <th>4</th>\n",
              "      <td>23012 Munoz Drive Suite 337\\nNew Cynthia, TX 5...</td>\n",
              "      <td>20 IE</td>\n",
              "      <td>AM</td>\n",
              "      <td>Opera/9.58.(X11; Linux x86_64; it-IT) Presto/2...</td>\n",
              "      <td>Brown, Watson and Andrews</td>\n",
              "      <td>6011456623207998</td>\n",
              "      <td>10/25</td>\n",
              "      <td>678</td>\n",
              "      <td>Diners Club / Carte Blanche</td>\n",
              "      <td>christopherwright@gmail.com</td>\n",
              "      <td>Fine artist</td>\n",
              "      <td>24.140.33.94</td>\n",
              "      <td>es</td>\n",
              "      <td>77.82</td>\n",
              "    </tr>\n",
              "  </tbody>\n",
              "</table>\n",
              "</div>"
            ],
            "text/plain": [
              "                                             Address    Lot AM or PM  \\\n",
              "0  16629 Pace Camp Apt. 448\\nAlexisborough, NE 77...  46 in       PM   \n",
              "1  9374 Jasmine Spurs Suite 508\\nSouth John, TN 8...  28 rn       PM   \n",
              "2                   Unit 0065 Box 5052\\nDPO AP 27450  94 vE       PM   \n",
              "3              7780 Julia Fords\\nNew Stacy, WA 45798  36 vm       PM   \n",
              "4  23012 Munoz Drive Suite 337\\nNew Cynthia, TX 5...  20 IE       AM   \n",
              "\n",
              "                                        Browser Info  \\\n",
              "0  Opera/9.56.(X11; Linux x86_64; sl-SI) Presto/2...   \n",
              "1  Opera/8.93.(Windows 98; Win 9x 4.90; en-US) Pr...   \n",
              "2  Mozilla/5.0 (compatible; MSIE 9.0; Windows NT ...   \n",
              "3  Mozilla/5.0 (Macintosh; Intel Mac OS X 10_8_0 ...   \n",
              "4  Opera/9.58.(X11; Linux x86_64; it-IT) Presto/2...   \n",
              "\n",
              "                           Company       Credit Card CC Exp Date  \\\n",
              "0                  Martinez-Herman  6011929061123406       02/20   \n",
              "1  Fletcher, Richards and Whitaker  3337758169645356       11/18   \n",
              "2       Simpson, Williams and Pham      675957666125       08/19   \n",
              "3  Williams, Marshall and Buchanan  6011578504430710       02/24   \n",
              "4        Brown, Watson and Andrews  6011456623207998       10/25   \n",
              "\n",
              "   CC Security Code                  CC Provider  \\\n",
              "0               900                 JCB 16 digit   \n",
              "1               561                   Mastercard   \n",
              "2               699                 JCB 16 digit   \n",
              "3               384                     Discover   \n",
              "4               678  Diners Club / Carte Blanche   \n",
              "\n",
              "                            Email                                     Job  \\\n",
              "0               pdunlap@yahoo.com  Scientist, product/process development   \n",
              "1              anthony41@reed.com                       Drilling engineer   \n",
              "2  amymiller@morales-harrison.com                Customer service manager   \n",
              "3     brent16@olson-robinson.info                       Drilling engineer   \n",
              "4     christopherwright@gmail.com                             Fine artist   \n",
              "\n",
              "        IP Address Language  Purchase Price  \n",
              "0  149.146.147.205       el           98.14  \n",
              "1     15.160.41.51       fr           70.73  \n",
              "2   132.207.160.22       de            0.95  \n",
              "3     30.250.74.19       es           78.04  \n",
              "4     24.140.33.94       es           77.82  "
            ]
          },
          "execution_count": 28,
          "metadata": {},
          "output_type": "execute_result"
        }
      ],
      "source": [
        "ecom.head()"
      ]
    },
    {
      "cell_type": "markdown",
      "metadata": {
        "id": "rTMS5Yum51_F"
      },
      "source": [
        "**How many rows and columns are there ?**\n",
        "\n",
        "Answer\n",
        "\n",
        "```\n",
        "<class 'pandas.core.frame.DataFrame'>\n",
        "RangeIndex: 10000 entries, 0 to 9999\n",
        "Data columns (total 14 columns):\n",
        "Address             10000 non-null object\n",
        "Lot                 10000 non-null object\n",
        "AM or PM            10000 non-null object\n",
        "Browser Info        10000 non-null object\n",
        "Company             10000 non-null object\n",
        "Credit Card         10000 non-null int64\n",
        "CC Exp Date         10000 non-null object\n",
        "CC Security Code    10000 non-null int64\n",
        "CC Provider         10000 non-null object\n",
        "Email               10000 non-null object\n",
        "Job                 10000 non-null object\n",
        "IP Address          10000 non-null object\n",
        "Language            10000 non-null object\n",
        "Purchase Price      10000 non-null float64\n",
        "dtypes: float64(1), int64(2), object(11)\n",
        "memory usage: 1.1+ MB\n",
        "```"
      ]
    },
    {
      "cell_type": "code",
      "execution_count": null,
      "metadata": {
        "id": "hgkJzljc51_F"
      },
      "outputs": [
        {
          "name": "stdout",
          "output_type": "stream",
          "text": [
            "<class 'pandas.core.frame.DataFrame'>\n",
            "RangeIndex: 10000 entries, 0 to 9999\n",
            "Data columns (total 14 columns):\n",
            " #   Column            Non-Null Count  Dtype  \n",
            "---  ------            --------------  -----  \n",
            " 0   Address           10000 non-null  object \n",
            " 1   Lot               10000 non-null  object \n",
            " 2   AM or PM          10000 non-null  object \n",
            " 3   Browser Info      10000 non-null  object \n",
            " 4   Company           10000 non-null  object \n",
            " 5   Credit Card       10000 non-null  int64  \n",
            " 6   CC Exp Date       10000 non-null  object \n",
            " 7   CC Security Code  10000 non-null  int64  \n",
            " 8   CC Provider       10000 non-null  object \n",
            " 9   Email             10000 non-null  object \n",
            " 10  Job               10000 non-null  object \n",
            " 11  IP Address        10000 non-null  object \n",
            " 12  Language          10000 non-null  object \n",
            " 13  Purchase Price    10000 non-null  float64\n",
            "dtypes: float64(1), int64(2), object(11)\n",
            "memory usage: 1.1+ MB\n"
          ]
        }
      ],
      "source": [
        "ecom.info()"
      ]
    },
    {
      "cell_type": "markdown",
      "metadata": {
        "id": "Fi7acqNy51_G"
      },
      "source": [
        "**What is the average Purchase Price ?**\n",
        "\n",
        "Answer: 50.34730200000025"
      ]
    },
    {
      "cell_type": "code",
      "execution_count": null,
      "metadata": {
        "id": "RaEXL0f551_G"
      },
      "outputs": [
        {
          "data": {
            "text/plain": [
              "50.347302"
            ]
          },
          "execution_count": 30,
          "metadata": {},
          "output_type": "execute_result"
        }
      ],
      "source": [
        "ecom['Purchase Price'].mean()"
      ]
    },
    {
      "cell_type": "markdown",
      "metadata": {
        "id": "RS4rVH3K51_G"
      },
      "source": [
        "**What were the highest purchase prices ?**\n",
        "\n",
        "Answer: 99.989999999999995"
      ]
    },
    {
      "cell_type": "code",
      "execution_count": null,
      "metadata": {
        "id": "NrnREqyJ51_G"
      },
      "outputs": [
        {
          "data": {
            "text/plain": [
              "99.99"
            ]
          },
          "execution_count": 33,
          "metadata": {},
          "output_type": "execute_result"
        }
      ],
      "source": [
        "ecom['Purchase Price'].max()"
      ]
    },
    {
      "cell_type": "markdown",
      "metadata": {
        "id": "GmWvRUvg8g2F"
      },
      "source": [
        "**What were the lowest purchase prices ?**\n",
        "\n",
        "Answer: 0"
      ]
    },
    {
      "cell_type": "code",
      "execution_count": null,
      "metadata": {
        "id": "f1CR4YP58lim"
      },
      "outputs": [
        {
          "data": {
            "text/plain": [
              "0.0"
            ]
          },
          "execution_count": 34,
          "metadata": {},
          "output_type": "execute_result"
        }
      ],
      "source": [
        "ecom['Purchase Price'].min()"
      ]
    },
    {
      "cell_type": "markdown",
      "metadata": {
        "id": "DyscxoG851_H"
      },
      "source": [
        "**How many people have English 'en' as their Language of choice on the website ?**"
      ]
    },
    {
      "cell_type": "code",
      "execution_count": null,
      "metadata": {
        "id": "j1rkkXg851_H"
      },
      "outputs": [
        {
          "data": {
            "text/plain": [
              "1098"
            ]
          },
          "execution_count": 35,
          "metadata": {},
          "output_type": "execute_result"
        }
      ],
      "source": [
        "# How many people have English 'en' as their Language of choice on the website\n",
        "\n",
        "ecom[ecom['Language'] == 'en']['Language'].count()"
      ]
    },
    {
      "cell_type": "markdown",
      "metadata": {
        "id": "PzSBurwR51_H"
      },
      "source": [
        "**How many people have the job title of \"Lawyer\" ?**\n"
      ]
    },
    {
      "cell_type": "code",
      "execution_count": null,
      "metadata": {
        "id": "LyntZGuq51_H"
      },
      "outputs": [
        {
          "data": {
            "text/plain": [
              "30"
            ]
          },
          "execution_count": 36,
          "metadata": {},
          "output_type": "execute_result"
        }
      ],
      "source": [
        "# how many people have the job title of 'Lawyer'\n",
        "\n",
        "ecom[ecom['Job'] == 'Lawyer']['Job'].count()"
      ]
    },
    {
      "cell_type": "markdown",
      "metadata": {
        "id": "vYJPcOwq51_H"
      },
      "source": [
        "**How many people made the purchase during the AM and how many people made the purchase during PM ?**\n",
        "\n",
        "**(Hint: Check out [value_counts()](http://pandas.pydata.org/pandas-docs/stable/generated/pandas.Series.value_counts.html) )**\n",
        "\n",
        "Answer:\n",
        "\n",
        "```\n",
        "PM    5068\n",
        "AM    4932\n",
        "Name: AM or PM, dtype: int64\n",
        "```"
      ]
    },
    {
      "cell_type": "code",
      "execution_count": null,
      "metadata": {
        "id": "drvfRYOC51_H"
      },
      "outputs": [
        {
          "data": {
            "text/plain": [
              "AM or PM\n",
              "PM    5068\n",
              "AM    4932\n",
              "Name: count, dtype: int64"
            ]
          },
          "execution_count": 39,
          "metadata": {},
          "output_type": "execute_result"
        }
      ],
      "source": [
        "# how many poeple made the purchase during AM and PM using value_counts()\n",
        "\n",
        "purchase_during_am_pm = ecom['AM or PM'].value_counts()\n",
        "purchase_during_am_pm"
      ]
    },
    {
      "cell_type": "markdown",
      "metadata": {
        "id": "hIYIC16p51_H"
      },
      "source": [
        "**What are the 5 most common Job Titles ?**\n",
        "\n",
        "Answer:\n",
        "\n",
        "```\n",
        "Interior and spatial designer    31\n",
        "Lawyer                           30\n",
        "Social researcher                28\n",
        "Purchasing manager               27\n",
        "Designer, jewellery              27\n",
        "Name: Job, dtype: int64\n",
        "```\n",
        "\n"
      ]
    },
    {
      "cell_type": "code",
      "execution_count": null,
      "metadata": {
        "id": "rzyNUfT351_I"
      },
      "outputs": [
        {
          "name": "stdout",
          "output_type": "stream",
          "text": [
            "Job\n",
            "Interior and spatial designer    31\n",
            "Lawyer                           30\n",
            "Social researcher                28\n",
            "Purchasing manager               27\n",
            "Designer, jewellery              27\n",
            "Name: count, dtype: int64\n"
          ]
        }
      ],
      "source": [
        "# top 5 most common job titles\n",
        "\n",
        "top_5_common_job_titles = ecom['Job'].value_counts().head(5)\n",
        "print(top_5_common_job_titles)"
      ]
    },
    {
      "cell_type": "markdown",
      "metadata": {
        "id": "Y0zr-rEo51_I"
      },
      "source": [
        "**Someone made a purchase that came from Lot: \"90 WT\" , what was the Purchase Price for this transaction ?**\n",
        "\n",
        "Answer:\n",
        "```\n",
        "513    75.1\n",
        "Name: Purchase Price, dtype: float64\n",
        "```\n",
        "\n"
      ]
    },
    {
      "cell_type": "code",
      "execution_count": 61,
      "metadata": {
        "id": "jeX46MHL-cQQ"
      },
      "outputs": [
        {
          "name": "stdout",
          "output_type": "stream",
          "text": [
            "513    75.1\n",
            "Name: Purchase Price, dtype: float64\n"
          ]
        }
      ],
      "source": [
        "# what was the purchase price that came from Lot: '90 WT'\n",
        "\n",
        "lot_90_wt = ecom[ecom['Lot'] == '90 WT']['Purchase Price']\n",
        "print(lot_90_wt)"
      ]
    },
    {
      "cell_type": "markdown",
      "metadata": {
        "id": "M2wDhmKH51_I"
      },
      "source": [
        "**What is the email of the person with the following Credit Card Number: 4926535242672853**\n",
        "\n",
        "Answer:\n",
        "\n",
        "```\n",
        "1234    bondellen@williams-garza.com\n",
        "Name: Email, dtype: object\n",
        "```\n"
      ]
    },
    {
      "cell_type": "code",
      "execution_count": 62,
      "metadata": {
        "id": "7pV49v9w51_I"
      },
      "outputs": [
        {
          "name": "stdout",
          "output_type": "stream",
          "text": [
            "1234    bondellen@williams-garza.com\n",
            "Name: Email, dtype: object\n"
          ]
        }
      ],
      "source": [
        "# email of the person with the following Credit Card Number: 4926535242672853\n",
        "\n",
        "email = ecom[ecom['Credit Card'] == 4926535242672853]['Email']\n",
        "print(email)"
      ]
    },
    {
      "cell_type": "markdown",
      "metadata": {
        "id": "oBhNtvj251_I"
      },
      "source": [
        "**How many people have American Express as their Credit Card Provider *and* made a purchase above $95 ?**\n",
        "\n",
        "Answer\n",
        "\n",
        "```\n",
        "Address             39\n",
        "Lot                 39\n",
        "AM or PM            39\n",
        "Browser Info        39\n",
        "Company             39\n",
        "Credit Card         39\n",
        "CC Exp Date         39\n",
        "CC Security Code    39\n",
        "CC Provider         39\n",
        "Email               39\n",
        "Job                 39\n",
        "IP Address          39\n",
        "Language            39\n",
        "Purchase Price      39\n",
        "dtype: int64\n",
        "```\n",
        "\n"
      ]
    },
    {
      "cell_type": "code",
      "execution_count": 65,
      "metadata": {
        "id": "ZX0G24mL98Rl"
      },
      "outputs": [
        {
          "name": "stdout",
          "output_type": "stream",
          "text": [
            "Address             39\n",
            "Lot                 39\n",
            "AM or PM            39\n",
            "Browser Info        39\n",
            "Company             39\n",
            "Credit Card         39\n",
            "CC Exp Date         39\n",
            "CC Security Code    39\n",
            "CC Provider         39\n",
            "Email               39\n",
            "Job                 39\n",
            "IP Address          39\n",
            "Language            39\n",
            "Purchase Price      39\n",
            "dtype: int64\n"
          ]
        }
      ],
      "source": [
        "# How many people have American Express as their Credit Card Provider *and* made a purchase above $95 ?\n",
        "\n",
        "people = ecom[(ecom['CC Provider'] == 'American Express') & (ecom['Purchase Price'] > 95)].count()\n",
        "print(people)"
      ]
    },
    {
      "cell_type": "markdown",
      "metadata": {
        "id": "C3qSM0p051_I"
      },
      "source": [
        "**Hard: How many people have a credit card that expires in 2025 ?**\n",
        "\n",
        "Answer: 1033"
      ]
    },
    {
      "cell_type": "code",
      "execution_count": 67,
      "metadata": {
        "id": "OHnFL1bP51_I"
      },
      "outputs": [
        {
          "name": "stdout",
          "output_type": "stream",
          "text": [
            "1033\n"
          ]
        }
      ],
      "source": [
        "# how many people have expired cc in 2025\n",
        "\n",
        "expired = ecom[ecom['CC Exp Date'].str.contains('25')]['CC Exp Date'].count()\n",
        "print(expired)"
      ]
    },
    {
      "cell_type": "markdown",
      "metadata": {
        "id": "dEuJx14f51_J"
      },
      "source": [
        "**Hard: What are the top 5 most popular email providers/hosts (e.g. gmail.com, yahoo.com, etc...)**\n",
        "\n",
        "Answer:\n",
        "\n",
        "```\n",
        "hotmail.com     1638\n",
        "yahoo.com       1616\n",
        "gmail.com       1605\n",
        "smith.com         42\n",
        "williams.com      37\n",
        "Name: Email, dtype: int64\n",
        "```\n",
        "\n"
      ]
    },
    {
      "cell_type": "code",
      "execution_count": 68,
      "metadata": {
        "id": "BWhi4suF51_J"
      },
      "outputs": [
        {
          "name": "stdout",
          "output_type": "stream",
          "text": [
            "Email\n",
            "hotmail.com     1638\n",
            "yahoo.com       1616\n",
            "gmail.com       1605\n",
            "smith.com         42\n",
            "williams.com      37\n",
            "Name: count, dtype: int64\n"
          ]
        }
      ],
      "source": [
        "# top 5 popular email\n",
        "\n",
        "email_providers = ecom['Email'].str.split('@').str[1]\n",
        "top_5_email_providers = email_providers.value_counts().head(5)\n",
        "print(top_5_email_providers)"
      ]
    }
  ],
  "metadata": {
    "colab": {
      "provenance": []
    },
    "kernelspec": {
      "display_name": "Python 3",
      "language": "python",
      "name": "python3"
    },
    "language_info": {
      "codemirror_mode": {
        "name": "ipython",
        "version": 3
      },
      "file_extension": ".py",
      "mimetype": "text/x-python",
      "name": "python",
      "nbconvert_exporter": "python",
      "pygments_lexer": "ipython3",
      "version": "3.12.3"
    }
  },
  "nbformat": 4,
  "nbformat_minor": 0
}
